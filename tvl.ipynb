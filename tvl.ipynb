{
 "cells": [
  {
   "cell_type": "code",
   "execution_count": 1,
   "metadata": {},
   "outputs": [
    {
     "ename": "FileNotFoundError",
     "evalue": "[Errno 2] No such file or directory: 'https://github.com/0xNODES/platform/blob/main/packages/contracts/deployments/metis/UserPositions.json'",
     "output_type": "error",
     "traceback": [
      "\u001b[0;31m---------------------------------------------------------------------------\u001b[0m",
      "\u001b[0;31mFileNotFoundError\u001b[0m                         Traceback (most recent call last)",
      "\u001b[1;32m/home/ubuntu/cloud/chain/0x/code/tools/tvl.ipynb Cell 1'\u001b[0m in \u001b[0;36m<module>\u001b[0;34m\u001b[0m\n\u001b[1;32m      <a href='vscode-notebook-cell://ssh-remote%2B192.168.64.2/home/ubuntu/cloud/chain/0x/code/tools/tvl.ipynb#ch0000000vscode-remote?line=0'>1</a>\u001b[0m \u001b[39mfrom\u001b[39;00m \u001b[39mweb3\u001b[39;00m \u001b[39mimport\u001b[39;00m Web3\n\u001b[1;32m      <a href='vscode-notebook-cell://ssh-remote%2B192.168.64.2/home/ubuntu/cloud/chain/0x/code/tools/tvl.ipynb#ch0000000vscode-remote?line=1'>2</a>\u001b[0m \u001b[39mimport\u001b[39;00m \u001b[39mjson\u001b[39;00m\n\u001b[0;32m----> <a href='vscode-notebook-cell://ssh-remote%2B192.168.64.2/home/ubuntu/cloud/chain/0x/code/tools/tvl.ipynb#ch0000000vscode-remote?line=3'>4</a>\u001b[0m \u001b[39mwith\u001b[39;00m \u001b[39mopen\u001b[39;49m(\u001b[39m\"\u001b[39;49m\u001b[39mhttps://github.com/0xNODES/platform/blob/main/packages/contracts/deployments/metis/UserPositions.json\u001b[39;49m\u001b[39m\"\u001b[39;49m) \u001b[39mas\u001b[39;00m m:\n\u001b[1;32m      <a href='vscode-notebook-cell://ssh-remote%2B192.168.64.2/home/ubuntu/cloud/chain/0x/code/tools/tvl.ipynb#ch0000000vscode-remote?line=4'>5</a>\u001b[0m     info_json \u001b[39m=\u001b[39m json\u001b[39m.\u001b[39mload(m)\n\u001b[1;32m      <a href='vscode-notebook-cell://ssh-remote%2B192.168.64.2/home/ubuntu/cloud/chain/0x/code/tools/tvl.ipynb#ch0000000vscode-remote?line=7'>8</a>\u001b[0m \u001b[39mwith\u001b[39;00m \u001b[39mopen\u001b[39m(\u001b[39m\"\u001b[39m\u001b[39m/home/ubuntu/cloud/chain/0x/code/platform/packages/contracts/deployments/metis/UserPositions.json\u001b[39m\u001b[39m\"\u001b[39m) \u001b[39mas\u001b[39;00m f:\n",
      "\u001b[0;31mFileNotFoundError\u001b[0m: [Errno 2] No such file or directory: 'https://github.com/0xNODES/platform/blob/main/packages/contracts/deployments/metis/UserPositions.json'"
     ]
    }
   ],
   "source": [
    "from web3 import Web3\n",
    "import json\n",
    "\n",
    "with open(\"https://github.com/0xNODES/platform/blob/main/packages/contracts/deployments/metis/UserPositions.json\") as m:\n",
    "    info_json = json.load(m)\n",
    "\n",
    "\n",
    "with open(\"/home/ubuntu/cloud/chain/0x/code/platform/packages/contracts/deployments/metis/UserPositions.json\") as f:\n",
    "    info_json = json.load(f)\n",
    "abi = info_json[\"abi\"]\n",
    "\n",
    "metis_url = \"https://andromeda.metis.io/?owner=1088\"\n",
    "w3 = Web3(Web3.HTTPProvider(metis_url))\n",
    "w3.isConnected()\n",
    "user_positions_address = \"0x2a5352C810D0C1cC1e907Db0552459B46a82433B\"\n",
    "\n",
    "contract_instance = w3.eth.contract(address=user_positions_address, abi=abi)\n",
    "contract_instance.functions.totalTokenBalance().call()"
   ]
  },
  {
   "cell_type": "code",
   "execution_count": null,
   "metadata": {},
   "outputs": [],
   "source": []
  }
 ],
 "metadata": {
  "interpreter": {
   "hash": "31f2aee4e71d21fbe5cf8b01ff0e069b9275f58929596ceb00d14d90e3e16cd6"
  },
  "kernelspec": {
   "display_name": "Python 3.8.10 64-bit",
   "language": "python",
   "name": "python3"
  },
  "language_info": {
   "codemirror_mode": {
    "name": "ipython",
    "version": 3
   },
   "file_extension": ".py",
   "mimetype": "text/x-python",
   "name": "python",
   "nbconvert_exporter": "python",
   "pygments_lexer": "ipython3",
   "version": "3.8.10"
  },
  "orig_nbformat": 4
 },
 "nbformat": 4,
 "nbformat_minor": 2
}
